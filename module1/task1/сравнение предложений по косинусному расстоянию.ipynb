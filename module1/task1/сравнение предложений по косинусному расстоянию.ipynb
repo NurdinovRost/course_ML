{
 "cells": [
  {
   "cell_type": "code",
   "execution_count": 1,
   "metadata": {},
   "outputs": [],
   "source": [
    "import re\n",
    "import scipy\n",
    "from scipy import spatial"
   ]
  },
  {
   "cell_type": "code",
   "execution_count": 3,
   "metadata": {},
   "outputs": [],
   "source": [
    "f = open('text.txt', 'r') # Открываем файл с предложениями.\n",
    "lines = [line.strip().lower() for line in f] # Считываем каждое предложение и переводим его в нижний регистр."
   ]
  },
  {
   "cell_type": "code",
   "execution_count": 15,
   "metadata": {},
   "outputs": [],
   "source": [
    "dict_words = dict() # Словарь уникальных слов.\n",
    "words = []\n",
    "number_code = 0 # Счетчик - индекс уникального слова.\n",
    "for line in lines:\n",
    "    temp = (re.split(r'[^a-z]', line)) # Разбиваем наше предложение на слова, разделителем является любой символ, который не является буквой от a до z\n",
    "    words.append([])\n",
    "    for j in temp: # Перебираем все слова\n",
    "        if j != '': # Если наше слово не является пустым, тогда добавим его к массиву words и проверим, встречалось ли оно в нашем dict()\n",
    "            words[-1].append(j)\n",
    "            if j not in dict_words: # Если слово не встречалось, добавим его в dict с индексом number_code\n",
    "                dict_words[j] = number_code\n",
    "                number_code += 1"
   ]
  },
  {
   "cell_type": "code",
   "execution_count": 10,
   "metadata": {},
   "outputs": [],
   "source": [
    "# Создадим матрицу n * m, и заполним ее количеством вхождений слов в предложение. Таким Образом, получим представление наших предложений\n",
    "# в векторном виде.\n",
    "matrix = []\n",
    "for line in words:\n",
    "    matrix.append([0] * 254)\n",
    "    for word in line:\n",
    "        matrix[-1][dict_words[word]] += 1  \n"
   ]
  },
  {
   "cell_type": "code",
   "execution_count": 8,
   "metadata": {},
   "outputs": [
    {
     "name": "stdout",
     "output_type": "stream",
     "text": [
      "[1.0, 0.04724555912615336, 0.13552618543578765, 0.10482848367219177, 0.22291128503014113, 0.05976143046671967, 0.2672612419124244, 0.07412493166611012, 0.11572751247156887, 0.09449111825230683, 0.16718346377260584, 0.11952286093343933, 0.16035674514745457, 0.12964074471043285, 0.12598815766974236, 0.05572782125753528, 0.15936381457791915, 0.04335549847620601, 0.05572782125753528, 0.11145564251507056, 0.15724272550828777, 0.17496355305594125]\n"
     ]
    }
   ],
   "source": [
    "# Расчитаем косинусное расстояние от 1 предложения до всех остальных\n",
    "a = []\n",
    "for line in matrix:\n",
    "    a.append(1 - scipy.spatial.distance.cosine(matrix[0], line))\n",
    "print(a)"
   ]
  },
  {
   "cell_type": "code",
   "execution_count": 9,
   "metadata": {},
   "outputs": [
    {
     "name": "stdout",
     "output_type": "stream",
     "text": [
      "6\n",
      "4\n"
     ]
    }
   ],
   "source": [
    "print(a.index(0.2672612419124244))\n",
    "print(a.index(0.22291128503014113))"
   ]
  }
 ],
 "metadata": {
  "kernelspec": {
   "display_name": "Python 3",
   "language": "python",
   "name": "python3"
  },
  "language_info": {
   "codemirror_mode": {
    "name": "ipython",
    "version": 3
   },
   "file_extension": ".py",
   "mimetype": "text/x-python",
   "name": "python",
   "nbconvert_exporter": "python",
   "pygments_lexer": "ipython3",
   "version": "3.7.0"
  }
 },
 "nbformat": 4,
 "nbformat_minor": 2
}
