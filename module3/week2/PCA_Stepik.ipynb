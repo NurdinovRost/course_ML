{
 "cells": [
  {
   "cell_type": "markdown",
   "metadata": {},
   "source": [
    "**Корректность проверена на Python 3.6:**\n",
    "+ pandas 0.23.4\n",
    "+ numpy 1.15.4\n",
    "+ matplotlib 3.0.2\n",
    "+ sklearn 0.20.2"
   ]
  },
  {
   "cell_type": "markdown",
   "metadata": {},
   "source": [
    "# Метод главных компонент\n",
    "\n",
    "В данном задании вам будет предложено ознакомиться с подходом, который переоткрывался в самых разных областях, имеет множество разных интерпретаций, а также несколько интересных обобщений: методом главных компонент (principal component analysis)."
   ]
  },
  {
   "cell_type": "markdown",
   "metadata": {},
   "source": [
    "## Programming assignment\n",
    "\n",
    "Задание разбито на две части: \n",
    "- работа с модельными данными,\n",
    "- работа с реальными данными.\n",
    "\n",
    "В конце каждого пункта от вас требуется получить ответ и загрузить в соответствующую форму."
   ]
  },
  {
   "cell_type": "code",
   "execution_count": 2,
   "metadata": {},
   "outputs": [],
   "source": [
    "import numpy as np\n",
    "import pandas as pd\n",
    "import matplotlib\n",
    "from matplotlib import pyplot as plt\n",
    "import matplotlib.patches as mpatches\n",
    "matplotlib.style.use('ggplot')\n",
    "%matplotlib inline"
   ]
  },
  {
   "cell_type": "markdown",
   "metadata": {},
   "source": [
    "## Теория\n",
    "\n",
    "Любой набор данных представляет собой матрицу $X$.\n",
    "\n",
    "Метод главных компонент последовательно находит следующие линейные комбинации признаков (компоненты) из $X$:\n",
    "- каждая компонента ортогональна всем остальным и нормированна: $<w_i, w_j> = 0, \\quad ||w_i||=1$,\n",
    "- каждая компонента описывает максимально возможную дисперсию данных (с учётом предыдущего ограничения).\n",
    "\n",
    "Предположения, в рамках которых данный подход будет работать хорошо:\n",
    "- линейность компонент: мы предполагаем, что данные можно анализировать линейными методами,\n",
    "- большие дисперсии важны: предполагается, что наиболее важны те направления в данных, вдоль которых они имеют наибольшую дисперсию,\n",
    "- все компоненты ортогональны: это предположение позволяет проводить анализ главных компонент при помощи техник линейной алгебры (например, сингулярное разложение матрицы $X$ или спектральное разложение матрицы $X^TX$).\n",
    "\n",
    "Как это выглядит математически?\n",
    "\n",
    "Обозначим следующим образом выборочную матрицу ковариации данных: $\\hat{C} \\propto Q = X^TX$. ($Q$ отличается от $\\hat{C}$ нормировкой на число объектов).\n",
    "\n",
    "Сингулярное разложение матрицы $Q$ выглядит следующим образом:\n",
    "\n",
    "$$Q = X^TX = W \\Lambda W^T$$\n",
    "\n",
    "Можно строго показать, что столбцы матрицы $W$ являются главными компонентами матрицы $X$, т.е. комбинациями признаков, удовлетворяющих двум условиям, указанным в начале. При этом дисперсия данных вдоль направления, заданного каждой компонентой, равна соответствующему значению диагональной матрицы $\\Lambda$.\n",
    "\n",
    "Как же на основании этого преобразования производить уменьшение размерности? Мы можем отранжировать компоненты, используя значения дисперсий данных вдоль них.\n",
    "\n",
    "Сделаем это: $\\lambda_{(1)} > \\lambda_{(2)} > \\dots > \\lambda_{(D)}$.\n",
    "\n",
    "Тогда, если мы выберем компоненты, соответствующие первым $d$ дисперсиям из этого списка, мы получим набор из $d$ новых признаков, которые наилучшим образом описывают дисперсию изначального набора данных среди всех других возможных линейных комбинаций исходных признаков матрицы $X$. \n",
    "- Если $d=D$, то мы вообще не теряем никакой информации.\n",
    "- Если $d<D$, то мы теряем информацию, которая, при справедливости указанных выше предположений, будет пропорциональна сумме дисперсий отброшенных компонент.\n",
    "\n",
    "Получается, что метод главных компонент позволяет нам ранжировать полученные компоненты по \"значимости\", а также запустить процесс их отбора."
   ]
  },
  {
   "cell_type": "markdown",
   "metadata": {},
   "source": [
    "## Пример\n",
    "\n",
    "Рассмотрим набор данных, который сэмплирован из многомерного нормального распределения с матрицей ковариации $C = \\begin{pmatrix} 3 & 1 \\\\ 1 & 2 \\end{pmatrix}$."
   ]
  },
  {
   "cell_type": "code",
   "execution_count": 6,
   "metadata": {},
   "outputs": [
    {
     "data": {
      "image/png": "[encoded data removed]",
      "text/plain": [
       "<Figure size 432x288 with 1 Axes>"
      ]
     },
     "metadata": {
      "needs_background": "light"
     },
     "output_type": "display_data"
    }
   ],
   "source": [
    "from sklearn.decomposition import PCA\n",
    "\n",
    "mu = np.zeros(2)\n",
    "C = np.array([[3,1],[1,2]])\n",
    "\n",
    "data = np.random.multivariate_normal(mu, C, size=50)\n",
    "plt.scatter(data[:,0], data[:,1])\n",
    "plt.show()"
   ]
  },
  {
   "cell_type": "markdown",
   "metadata": {},
   "source": [
    "Путём диагонализации истинной матрицы ковариаций $C$, мы можем найти преобразование исходного набора данных, компоненты которого наилучшим образом будут описывать дисперсию, с учётом их ортогональности друг другу:"
   ]
  },
  {
   "cell_type": "code",
   "execution_count": 20,
   "metadata": {},
   "outputs": [
    {
     "name": "stdout",
     "output_type": "stream",
     "text": [
      "[3.61803399 1.38196601] [[ 0.85065081 -0.52573111]\n",
      " [ 0.52573111  0.85065081]]\n"
     ]
    },
    {
     "data": {
      "image/png": "[encoded data removed]",
      "text/plain": [
       "<Figure size 432x288 with 1 Axes>"
      ]
     },
     "metadata": {
      "needs_background": "light"
     },
     "output_type": "display_data"
    }
   ],
   "source": [
    "v, W_true = np.linalg.eig(C)\n",
    "print(v, W_true)\n",
    "\n",
    "plt.scatter(data[:,0], data[:,1])\n",
    "# построим истинные компоненты, вдоль которых максимальна дисперсия данных\n",
    "plt.plot(data[:,0], (W_true[0,0]/W_true[0,1])*data[:,0], color=\"g\")\n",
    "plt.plot(data[:,0], (W_true[1,0]/W_true[1,1])*data[:,0], color=\"g\")\n",
    "g_patch = mpatches.Patch(color='g', label='True components')\n",
    "plt.legend(handles=[g_patch])\n",
    "plt.axis('equal')\n",
    "limits = [np.minimum(np.amin(data[:,0]), np.amin(data[:,1])),\n",
    "          np.maximum(np.amax(data[:,0]), np.amax(data[:,1]))]\n",
    "plt.xlim(limits[0],limits[1])\n",
    "plt.ylim(limits[0],limits[1])\n",
    "plt.draw()"
   ]
  },
  {
   "cell_type": "markdown",
   "metadata": {},
   "source": [
    "А теперь сравним эти направления с направлениями, которые выбирает метод главных компонент:"
   ]
  },
  {
   "cell_type": "code",
   "execution_count": 21,
   "metadata": {},
   "outputs": [],
   "source": [
    "def plot_principal_components(data, model, scatter=True, legend=True):\n",
    "    W_pca = model.components_\n",
    "    if scatter:\n",
    "        plt.scatter(data[:,0], data[:,1])\n",
    "    plt.plot(data[:,0], -(W_pca[0,0]/W_pca[0,1])*data[:,0], color=\"c\")\n",
    "    plt.plot(data[:,0], -(W_pca[1,0]/W_pca[1,1])*data[:,0], color=\"c\")\n",
    "    if legend:\n",
    "        c_patch = mpatches.Patch(color='c', label='Principal components')\n",
    "        plt.legend(handles=[c_patch], loc='lower right')\n",
    "    # сделаем графики красивыми:\n",
    "    plt.axis('equal')\n",
    "    limits = [np.minimum(np.amin(data[:,0]), np.amin(data[:,1]))-0.5,\n",
    "              np.maximum(np.amax(data[:,0]), np.amax(data[:,1]))+0.5]\n",
    "    plt.xlim(limits[0],limits[1])\n",
    "    plt.ylim(limits[0],limits[1])\n",
    "    plt.draw()"
   ]
  },
  {
   "cell_type": "code",
   "execution_count": 22,
   "metadata": {},
   "outputs": [
    {
     "data": {
      "image/png": "[encoded data removed]",
      "text/plain": [
       "<Figure size 432x288 with 1 Axes>"
      ]
     },
     "metadata": {
      "needs_background": "light"
     },
     "output_type": "display_data"
    }
   ],
   "source": [
    "model = PCA(n_components=2)\n",
    "model.fit(data)\n",
    "\n",
    "plt.scatter(data[:,0], data[:,1])\n",
    "# построим истинные компоненты, вдоль которых максимальна дисперсия данных\n",
    "plt.plot(data[:,0], (W_true[0,0]/W_true[0,1])*data[:,0], color=\"g\")\n",
    "plt.plot(data[:,0], (W_true[1,0]/W_true[1,1])*data[:,0], color=\"g\")\n",
    "# построим компоненты, полученные с использованием метода PCA:\n",
    "plot_principal_components(data, model, scatter=False, legend=False)\n",
    "c_patch = mpatches.Patch(color='c', label='Principal components')\n",
    "plt.legend(handles=[g_patch, c_patch])\n",
    "plt.draw()"
   ]
  },
  {
   "cell_type": "markdown",
   "metadata": {},
   "source": [
    "Видно, что уже при небольшом количестве данных они отличаются незначительно. Увеличим размер выборки:"
   ]
  },
  {
   "cell_type": "code",
   "execution_count": 23,
   "metadata": {},
   "outputs": [
    {
     "data": {
      "image/png": "[encoded data removed]",
      "text/plain": [
       "<Figure size 432x288 with 1 Axes>"
      ]
     },
     "metadata": {
      "needs_background": "light"
     },
     "output_type": "display_data"
    }
   ],
   "source": [
    "data_large = np.random.multivariate_normal(mu, C, size=5000)\n",
    "\n",
    "model = PCA(n_components=2)\n",
    "model.fit(data_large)\n",
    "plt.scatter(data_large[:,0], data_large[:,1], alpha=0.1)\n",
    "# построим истинные компоненты, вдоль которых максимальна дисперсия данных\n",
    "plt.plot(data_large[:,0], (W_true[0,0]/W_true[0,1])*data_large[:,0], color=\"g\")\n",
    "plt.plot(data_large[:,0], (W_true[1,0]/W_true[1,1])*data_large[:,0], color=\"g\")\n",
    "# построим компоненты, полученные с использованием метода PCA:\n",
    "plot_principal_components(data_large, model, scatter=False, legend=False)\n",
    "c_patch = mpatches.Patch(color='c', label='Principal components')\n",
    "plt.legend(handles=[g_patch, c_patch])\n",
    "plt.draw()"
   ]
  },
  {
   "cell_type": "markdown",
   "metadata": {},
   "source": [
    "В этом случае главные компоненты значительно точнее приближают истинные направления данных, вдоль которых наблюдается наибольшая дисперсия."
   ]
  },
  {
   "cell_type": "markdown",
   "metadata": {},
   "source": [
    "## Статистический взгляд на модель\n",
    "\n",
    "Как формализовать предположения метода, указанные выше? При помощи вероятностной модели!\n",
    "\n",
    "Задача, стоящая за любым методом уменьшения размерности: получить из набора зашумлённых признаков $X$ истинные значения $Y$, которые на самом деле определяют набор данных (т.е. сведение датасета с большим количеством признаков к данным, имеющим т.н. \"эффективную размерность\").\n",
    "\n",
    "В случае метода главных компонент мы хотим найти направления, вдоль которых максимальна дисперсия, с учётом описанных выше предположений о структуре данных и компонент.\n",
    "\n",
    "Материал, описанный ниже в данной секции, не обязателен для ознакомления для выполнения следующего задания, т.к. требует некоторых знаний статистики.\n",
    "\n",
    "Для тех, кто собирается его пропустить: в конце раздела мы получим метрику качества, которая должна определять, насколько данные хорошо описываются построенной моделью при заданном числе компонент. Отбор признаков при этом сводится к тому, что мы выбираем то количество компонент, при котором используемая метрика (логарифм правдоподобия) является максимальной.\n",
    "\n",
    "С учётом предположений задача метода главных компонент выглядит следующим образом:\n",
    "\n",
    "$$ x = Wy + \\mu + \\epsilon$$\n",
    "\n",
    "где:\n",
    "- $x$ -- наблюдаемые данные\n",
    "- $W$ -- матрица главных компонент (каждый стобец -- одна компонента)\n",
    "- $y$ -- их проекция на главные компоненты\n",
    "- $\\mu$ -- среднее наблюдаемых данных\n",
    "- $\\epsilon \\sim \\mathcal{N}(0, \\sigma^2I)$ -- нормальный шум\n",
    "\n",
    "Исходя из распределения шума, выпишем распределение на $x$:\n",
    "\n",
    "$$p(x \\mid y) = \\mathcal{N}(Wx + \\mu, \\sigma^2I) $$\n",
    "\n",
    "Введём априорное распределение на $y$:\n",
    "\n",
    "$$p(y) = \\mathcal{N}(0, 1)$$\n",
    "\n",
    "Выведем из этого при помощи формулы Байеса маргинальное распределение на $p(x)$:\n",
    "\n",
    "$$p(x) = \\mathcal{N}(\\mu, \\sigma^2I + WW^T)$$\n",
    "\n",
    "Тогда правдоподобие набора данных при условии используемой модели выглядит следующим образом:\n",
    "\n",
    "$$\\mathcal{L} = \\sum_{i=1}^N \\log p(x_i) = -N/2 \\Big( d\\log(2\\pi) + \\log |C| + \\text{tr}(C^{-1}S) \\Big)$$\n",
    "\n",
    "где:\n",
    "- $C = \\sigma^2I + WW^T$ -- матрица ковариации в маргинальной модели\n",
    "- $S = \\frac{1}{N} \\sum_{i=1}^N (x_i - \\mu)(x_i - \\mu)^T$ -- выборочная ковариация\n",
    "\n",
    "Значение $\\mathcal{L}$ имеет смысл логарифма вероятности получения набора данных $X$ при условии, что он удовлетворяет предположениям модели метода главных компонент. Чем оно больше -- тем лучше модель описывает наблюдаемые данные."
   ]
  },
  {
   "cell_type": "markdown",
   "metadata": {},
   "source": [
    "## Задание 1. Автоматическое уменьшение размерности данных при помощи логарифма правдоподобия $\\mathcal{L}$\n",
    "\n",
    "Рассмотрим набор данных размерности $D$, чья реальная размерность значительно меньше наблюдаемой (назовём её $d$). От вас требуется:\n",
    "\n",
    "1. Для каждого значения $\\hat{d}$ в интервале [1,D] построить модель PCA с $\\hat{d}$ главными компонентами.\n",
    "2. Оценить средний логарифм правдоподобия данных для каждой модели на генеральной совокупности, используя метод кросс-валидации с 3 фолдами (итоговая оценка значения логарифма правдоподобия усредняется по всем фолдам).\n",
    "3. Найти модель, для которой он максимален, и внести в форму ответа число компонент в данной модели, т.е. значение $\\hat{d}_{opt}$.\n",
    "\n",
    "Для оценки логарифма правдоподобия модели для заданного числа главных компонент при помощи метода кросс-валидации используйте следующие функции:\n",
    "\n",
    "    model = PCA(n_components=n)\n",
    "    scores = cv_score(model, data)\n",
    "        \n",
    "Обратите внимание, что scores -- это вектор, длина которого равна числу фолдов. Для получения оценки на правдоподобие модели его значения требуется усреднить.\n",
    "\n",
    "Для визуализации оценок можете использовать следующую функцию:\n",
    "\n",
    "    plot_scores(d_scores)\n",
    "    \n",
    "которой на вход передаётся вектор полученных оценок логарифма правдоподобия данных для каждого $\\hat{d}$.\n",
    "\n",
    "Для интересующихся: данные для заданий 1 и 2 были сгенерированны в соответствии с предполагаемой PCA моделью. То есть: данные $Y$ с эффективной размерностью $d$, полученные из независимых равномерных распределений, линейно траснформированны случайной матрицей $W$ в пространство размерностью $D$, после чего ко всем признакам был добавлен независимый нормальный шум с дисперсией $\\sigma$."
   ]
  },
  {
   "cell_type": "code",
   "execution_count": 24,
   "metadata": {},
   "outputs": [],
   "source": [
    "from sklearn.decomposition import PCA\n",
    "from sklearn.model_selection import cross_val_score as cv_score\n",
    "\n",
    "def plot_scores(d_scores):\n",
    "    n_components = np.arange(1,d_scores.size+1)\n",
    "    plt.plot(n_components, d_scores, 'b', label='PCA scores')\n",
    "    plt.xlim(n_components[0], n_components[-1])\n",
    "    plt.xlabel('n components')\n",
    "    plt.ylabel('cv scores')\n",
    "    plt.legend(loc='lower right')\n",
    "    plt.show()\n",
    "        \n",
    "data = pd.read_csv('data_task1.csv')\n",
    "\n",
    "# place your code here\n",
    "\n",
    "#print(optimal_d)\n",
    "pass"
   ]
  },
  {
   "cell_type": "code",
   "execution_count": 36,
   "metadata": {},
   "outputs": [
    {
     "name": "stdout",
     "output_type": "stream",
     "text": [
      "20\n"
     ]
    },
    {
     "data": {
      "image/png": "[encoded data removed]",
      "text/plain": [
       "<Figure size 432x288 with 1 Axes>"
      ]
     },
     "metadata": {
      "needs_background": "light"
     },
     "output_type": "display_data"
    }
   ],
   "source": [
    "def gen_pca(D):\n",
    "    d_scores = []\n",
    "    for i in range(1, D):\n",
    "        model = PCA(n_components=i)\n",
    "        scores = np.average(cv_score(model, data))\n",
    "        d_scores.append(scores)\n",
    "    print(np.argmax(d_scores) + 1)\n",
    "    plot_scores(np.array(d_scores))\n",
    "\n",
    "\n",
    "gen_pca(80)"
   ]
  },
  {
   "cell_type": "markdown",
   "metadata": {},
   "source": [
    "## Вариационный взгляд на модель\n",
    "\n",
    "Мы знаем, что каждой главной компоненте соответствует описываемая ей дисперсия данных (дисперсия данных при проекции на эту компоненту). Она численно равна значению диагональных элементов матрицы $\\Lambda$, получаемой из спектрального разложения матрицы ковариации данных (смотри теорию выше).\n",
    "\n",
    "Исходя из этого, мы можем отсортировать дисперсию данных вдоль этих компонент по убыванию, и уменьшить размерность данных, отбросив $q$ итоговых главных компонент, имеющих наименьшую дисперсию.\n",
    "\n",
    "Делать это можно двумя разными способами. Например, если вы вдальнейшем обучаете на данных с уменьшенной размерностью модель классификации или регрессии, то можно запустить итерационный процесс: удалять компоненты с наименьшей дисперсией по одной, пока качество итоговой модели не станет значительно хуже.\n",
    "\n",
    "Более общий способ отбора признаков заключается в том, что вы можете посмотреть на разности в дисперсиях в отсортированном ряде $\\lambda_{(1)} > \\lambda_{(2)} > \\dots > \\lambda_{(D)}$: $\\lambda_{(1)}-\\lambda_{(2)}, \\dots, \\lambda_{(D-1)} - \\lambda_{(D)}$, и удалить те компоненты, на которых разность будет наибольшей. Именно этим методом вам и предлагается воспользоваться для тестового набора данных."
   ]
  },
  {
   "cell_type": "markdown",
   "metadata": {},
   "source": [
    "## Задание 2. Ручное уменьшение размерности признаков посредством анализа дисперсии данных вдоль главных компонент\n",
    "\n",
    "Рассмотрим ещё один набор данных размерности $D$, чья реальная размерность значительно меньше наблюдаемой (назовём её также $d$). От вас требуется:\n",
    "\n",
    "1. Построить модель PCA с $D$ главными компонентами по этим данным.\n",
    "2. Спроецировать данные на главные компоненты.\n",
    "3. Оценить их дисперсию вдоль главных компонент.\n",
    "4. Отсортировать дисперсии в порядке убывания и получить их попарные разности: $\\lambda_{(i-1)} - \\lambda_{(i)}$.\n",
    "5. Найти разность с наибольшим значением и получить по ней оценку на эффективную размерность данных $\\hat{d}$.\n",
    "6. Построить график дисперсий и убедиться, что полученная оценка на $\\hat{d}_{opt}$ действительно имеет смысл, после этого внести полученное значение $\\hat{d}_{opt}$ в форму ответа.\n",
    "\n",
    "Для построения модели PCA используйте функцию:\n",
    "\n",
    "    model.fit(data)\n",
    "    \n",
    "Для трансформации данных используйте метод:\n",
    "\n",
    "    model.transform(data)\n",
    "    \n",
    "Оценку дисперсий на трансформированных данных от вас потребуется реализовать вручную. Для построения графиков можно воспользоваться функцией\n",
    "\n",
    "    plot_variances(d_variances)\n",
    "    \n",
    "которой следует передать на вход отсортированный по убыванию вектор дисперсий вдоль компонент."
   ]
  },
  {
   "cell_type": "code",
   "execution_count": 50,
   "metadata": {},
   "outputs": [
    {
     "name": "stdout",
     "output_type": "stream",
     "text": [
      "30\n"
     ]
    }
   ],
   "source": [
    "from sklearn.decomposition import PCA\n",
    "from sklearn.model_selection import cross_val_score as cv_score\n",
    "\n",
    "def plot_variances(d_variances):\n",
    "    n_components = np.arange(1,d_variances.size+1)\n",
    "    plt.plot(n_components, d_variances, 'b', label='Component variances')\n",
    "    plt.xlim(n_components[0], n_components[-1])\n",
    "    plt.xlabel('n components')\n",
    "    plt.ylabel('variance')\n",
    "    plt.legend(loc='upper right')\n",
    "    plt.show()\n",
    "        \n",
    "data = pd.read_csv('data_task2.csv')\n",
    "\n",
    "# place your code here\n",
    "\n",
    "model = PCA(n_components=data.shape[1])\n",
    "model.fit(data)\n",
    "var = model.explained_variance_\n",
    "d = var[:-1] - var[1:]\n",
    "print(np.argmax(np.array(d)) + 1)"
   ]
  },
  {
   "cell_type": "code",
   "execution_count": 53,
   "metadata": {},
   "outputs": [
    {
     "name": "stdout",
     "output_type": "stream",
     "text": [
      "[7356.59483157 7067.97939989 6983.08156798 6874.22592687 6779.5734258\n",
      " 6708.41506197 6691.64323873 6483.94249688 6375.69911245 6349.70355167\n",
      " 6306.78344829 6259.81392597 6206.50816137 6054.36226492 6049.71154502\n",
      " 5993.31185979 5968.058938   5916.09625085 5882.6507445  5805.54861353\n",
      " 5734.47324929 5640.83569099 5619.42052375 5581.50479014 5512.36244261\n",
      " 5498.55764913 5302.64581096 5278.31106642 5126.21472743 5021.66488039\n",
      " 3905.14171095 3821.65211918 3779.05480443 3744.62425861 3711.71693859\n",
      " 3678.47602643 3647.14070502 3609.8014386  3574.85036989 3536.69313794\n",
      " 3516.96140851 3478.06226523 3431.50119157 3411.20130236 3383.99092606\n",
      " 3363.14420842 3357.12376494 3325.51188269 3303.52222306 3279.80645911\n",
      " 3241.65180413 3213.75354943 3210.23947365 3179.5481042  3177.39951021\n",
      " 3119.09284498 3098.90610333 3066.70770452 3046.41457381 3016.69945017\n",
      " 3011.88705998 2980.52983016 2965.17490624 2954.49793438 2939.68613033\n",
      " 2908.08304182 2880.46064193 2867.50441894 2845.69995944 2829.7276252\n",
      " 2822.47256845 2794.89368218 2772.06841528 2763.91315371 2741.32920703\n",
      " 2731.65476355 2717.33675974 2678.63631744 2652.64425981 2650.80317414\n",
      " 2607.67867083 2593.24182705 2576.13774297 2575.2785802  2543.66353974\n",
      " 2510.47530241 2463.43918534 2454.03468528 2435.19538947 2421.37273586\n",
      " 2390.46555968 2372.46932667 2364.34045966 2342.06730502 2302.33856058\n",
      " 2283.49018685 2279.69293584 2261.79410511 2205.48743846 2184.97961919]\n"
     ]
    }
   ],
   "source": [
    "u, s, vh = np.linalg.svd(np.dot(data.values.T, data.values), full_matrices=True)\n",
    "print(s)"
   ]
  },
  {
   "cell_type": "markdown",
   "metadata": {},
   "source": [
    "## Интерпретация главных компонент\n",
    "\n",
    "В качестве главных компонент мы получаем линейные комбинации исходных призанков, поэтому резонно возникает вопрос об их интерпретации.\n",
    "\n",
    "Для этого существует несколько подходов, мы рассмотрим два:\n",
    "- рассчитать взаимосвязи главных компонент с исходными признаками\n",
    "- рассчитать вклады каждого конкретного наблюдения в главные компоненты\n",
    "\n",
    "Первый способ подходит в том случае, когда все объекты из набора данных не несут для нас никакой семантической информации, которая уже не запечатлена в наборе признаков.\n",
    "\n",
    "Второй способ подходит для случая, когда данные имеют более сложную структуру. Например, лица для человека несут больший семантический смысл, чем вектор значений пикселей, которые анализирует PCA.\n",
    "\n",
    "Рассмотрим подробнее способ 1: он заключается в подсчёте коэффициентов корреляций между исходными признаками и набором главных компонент.\n",
    "\n",
    "Так как метод главных компонент является линейным, то предлагается для анализа использовать корреляцию Пирсона, выборочный аналог которой имеет следующую формулу:\n",
    "\n",
    "$$r_{jk} = \\frac{\\sum_{i=1}^N (x_{ij} - \\bar{x}_j) (y_{ik} - \\bar{y}_k)}{\\sqrt{\\sum_{i=1}^N (x_{ij} - \\bar{x}_j)^2 \\sum_{i=1}^N (y_{ik} - \\bar{y}_k)^2}} $$\n",
    "\n",
    "где:\n",
    "- $\\bar{x}_j$ -- среднее значение j-го признака,\n",
    "- $\\bar{y}_k$ -- среднее значение проекции на k-ю главную компоненту.\n",
    "\n",
    "Корреляция Пирсона является мерой линейной зависимости. Она равна 0 в случае, когда величины независимы, и $\\pm 1$, если они линейно зависимы. Исходя из степени корреляции новой компоненты с исходными признаками, можно строить её семантическую интерпретацию, т.к. смысл исходных признаков мы знаем."
   ]
  },
  {
   "cell_type": "markdown",
   "metadata": {},
   "source": [
    "## Задание 3. Анализ главных компонент при помощи корреляций с исходными признаками.\n",
    "\n",
    "1. Обучите метод главных компонент на датасете iris, получите преобразованные данные.\n",
    "2. Посчитайте корреляции исходных признаков с их проекциями на первые две главные компоненты.\n",
    "3. Для каждого признака найдите компоненту (из двух построенных), с которой он коррелирует больше всего.\n",
    "4. На основании п.3 сгруппируйте признаки по компонентам. Составьте два списка: список номеров признаков, которые сильнее коррелируют с первой компонентой, и такой же список для второй. Нумерацию начинать с единицы. Передайте оба списка в форму ответа.\n",
    "\n",
    "Набор данных состоит из 4 признаков, посчитанных для 150 ирисов. Каждый из них принадлежит одному из трёх видов. Визуализацию проекции данного датасета на две компоненты, которые описывают наибольшую дисперсию данных, можно получить при помощи функции\n",
    "\n",
    "    plot_iris(transformed_data, target, target_names)\n",
    "    \n",
    "на вход которой требуется передать данные, преобразованные при помощи PCA, а также информацию о классах. Цвет точек отвечает одному из трёх видов ириса.\n",
    "\n",
    "Для того чтобы получить имена исходных признаков, используйте следующий список:\n",
    "\n",
    "    iris.feature_names\n",
    "    \n",
    "При подсчёте корреляций не забудьте центрировать признаки и проекции на главные компоненты (вычитать из них среднее)."
   ]
  },
  {
   "cell_type": "code",
   "execution_count": 98,
   "metadata": {},
   "outputs": [],
   "source": [
    "from sklearn import datasets\n",
    "from scipy.stats.stats import pearsonr\n",
    "\n",
    "def plot_iris(transformed_data, target, target_names):\n",
    "    plt.figure()\n",
    "    print(transformed_data)\n",
    "    for c, i, target_name in zip(\"rgb\", [0, 1, 2], target_names):\n",
    "        print(c)\n",
    "        print(i)\n",
    "        print(target_name)\n",
    "        print(transformed_data[target == i, 0])\n",
    "        print(transformed_data[target == i, 1])\n",
    "#         plt.scatter(transformed_data[target == i, 0],\n",
    "#                     transformed_data[target == i, 1], c=c, label=target_name)\n",
    "    plt.legend()\n",
    "    plt.show()\n",
    "    \n",
    "def write_answer_3(list_pc1, list_pc2):\n",
    "    with open(\"pca_answer3.txt\", \"w\") as fout:\n",
    "        fout.write(\" \".join([str(num) for num in list_pc1]))\n",
    "        fout.write(\" \")\n",
    "        fout.write(\" \".join([str(num) for num in list_pc2]))\n",
    "\n",
    "# загрузим датасет iris\n",
    "iris = datasets.load_iris()\n",
    "data = iris.data\n",
    "target = iris.target\n",
    "target_names = iris.target_names\n",
    "\n",
    "# place your code here"
   ]
  },
  {
   "cell_type": "code",
   "execution_count": 102,
   "metadata": {},
   "outputs": [
    {
     "name": "stderr",
     "output_type": "stream",
     "text": [
      "No handles with labels found to put in legend.\n"
     ]
    },
    {
     "name": "stdout",
     "output_type": "stream",
     "text": [
      "[[-2.68412563e+00  3.19397247e-01 -2.79148276e-02 -2.26243707e-03]\n",
      " [-2.71414169e+00 -1.77001225e-01 -2.10464272e-01 -9.90265503e-02]\n",
      " [-2.88899057e+00 -1.44949426e-01  1.79002563e-02 -1.99683897e-02]\n",
      " [-2.74534286e+00 -3.18298979e-01  3.15593736e-02  7.55758166e-02]\n",
      " [-2.72871654e+00  3.26754513e-01  9.00792406e-02  6.12585926e-02]\n",
      " [-2.28085963e+00  7.41330449e-01  1.68677658e-01  2.42008576e-02]\n",
      " [-2.82053775e+00 -8.94613845e-02  2.57892158e-01  4.81431065e-02]\n",
      " [-2.62614497e+00  1.63384960e-01 -2.18793179e-02  4.52978706e-02]\n",
      " [-2.88638273e+00 -5.78311754e-01  2.07595703e-02  2.67447358e-02]\n",
      " [-2.67275580e+00 -1.13774246e-01 -1.97632725e-01  5.62954013e-02]\n",
      " [-2.50694709e+00  6.45068899e-01 -7.53180094e-02  1.50199245e-02]\n",
      " [-2.61275523e+00  1.47299392e-02  1.02150260e-01  1.56379208e-01]\n",
      " [-2.78610927e+00 -2.35112000e-01 -2.06844430e-01  7.88791149e-03]\n",
      " [-3.22380374e+00 -5.11394587e-01  6.12996725e-02  2.16798118e-02]\n",
      " [-2.64475039e+00  1.17876464e+00 -1.51627524e-01 -1.59209718e-01]\n",
      " [-2.38603903e+00  1.33806233e+00  2.77776903e-01 -6.55154587e-03]\n",
      " [-2.62352788e+00  8.10679514e-01  1.38183228e-01 -1.67734737e-01]\n",
      " [-2.64829671e+00  3.11849145e-01  2.66683156e-02 -7.76281796e-02]\n",
      " [-2.19982032e+00  8.72839039e-01 -1.20305523e-01 -2.70518681e-02]\n",
      " [-2.58798640e+00  5.13560309e-01  2.13665172e-01  6.62726502e-02]\n",
      " [-2.31025622e+00  3.91345936e-01 -2.39444043e-01  1.50707908e-02]\n",
      " [-2.54370523e+00  4.32996063e-01  2.08457232e-01 -4.10654027e-02]\n",
      " [-3.21593942e+00  1.33468070e-01  2.92396751e-01 -4.48212505e-03]\n",
      " [-2.30273318e+00  9.87088548e-02  3.91232587e-02 -1.48352589e-01]\n",
      " [-2.35575405e+00 -3.72818597e-02  1.25021083e-01  3.00330904e-01]\n",
      " [-2.50666891e+00 -1.46016880e-01 -2.53420042e-01 -3.46074722e-02]\n",
      " [-2.46882007e+00  1.30951489e-01  9.49105761e-02 -5.74497158e-02]\n",
      " [-2.56231991e+00  3.67718857e-01 -7.84942051e-02  1.41727423e-02]\n",
      " [-2.63953472e+00  3.12039980e-01 -1.45908896e-01 -6.57834667e-02]\n",
      " [-2.63198939e+00 -1.96961225e-01  4.07710791e-02  1.23983306e-01]\n",
      " [-2.58739848e+00 -2.04318491e-01 -7.72229891e-02  6.04622767e-02]\n",
      " [-2.40993250e+00  4.10924264e-01 -1.45524972e-01 -2.31628492e-01]\n",
      " [-2.64886233e+00  8.13363820e-01  2.25669150e-01  2.81372347e-01]\n",
      " [-2.59873675e+00  1.09314576e+00  1.57810813e-01  9.53488583e-02]\n",
      " [-2.63692688e+00 -1.21322348e-01 -1.43049582e-01 -1.90703413e-02]\n",
      " [-2.86624165e+00  6.93644716e-02 -1.64332307e-01 -1.62598446e-01]\n",
      " [-2.62523805e+00  5.99370021e-01 -2.68350376e-01 -1.76441213e-01]\n",
      " [-2.80068412e+00  2.68643738e-01  9.36990825e-02  1.68173054e-01]\n",
      " [-2.98050204e+00 -4.87958344e-01  7.29270457e-02  1.07331474e-02]\n",
      " [-2.59000631e+00  2.29043837e-01 -8.00823030e-02  1.37491513e-02]\n",
      " [-2.77010243e+00  2.63527534e-01  7.72476932e-02 -9.40633590e-02]\n",
      " [-2.84936871e+00 -9.40960574e-01 -3.49230377e-01 -3.19987487e-01]\n",
      " [-2.99740655e+00 -3.41926057e-01  1.92509212e-01  7.46777682e-02]\n",
      " [-2.40561449e+00  1.88871429e-01  2.63867946e-01 -1.76208890e-01]\n",
      " [-2.20948924e+00  4.36663142e-01  2.98742746e-01  1.82842502e-01]\n",
      " [-2.71445143e+00 -2.50208204e-01 -9.76781440e-02 -1.42843574e-01]\n",
      " [-2.53814826e+00  5.03771144e-01  1.66705637e-01  1.89622291e-01]\n",
      " [-2.83946217e+00 -2.27945569e-01  8.37268490e-02  5.95642283e-02]\n",
      " [-2.54308575e+00  5.79410022e-01 -1.71150242e-02  4.65686438e-02]\n",
      " [-2.70335978e+00  1.07706082e-01 -8.92940085e-02 -3.46583385e-02]\n",
      " [ 1.28482569e+00  6.85160470e-01 -4.06568025e-01 -1.85252879e-02]\n",
      " [ 9.32488532e-01  3.18333638e-01 -1.80141866e-02 -5.66512106e-04]\n",
      " [ 1.46430232e+00  5.04262815e-01 -3.38325765e-01  1.65317587e-03]\n",
      " [ 1.83317720e-01 -8.27959012e-01 -1.79591392e-01 -9.35668402e-02]\n",
      " [ 1.08810326e+00  7.45906752e-02 -3.07757896e-01 -1.12020574e-01]\n",
      " [ 6.41669084e-01 -4.18246872e-01  4.10760908e-02  2.43116767e-01]\n",
      " [ 1.09506066e+00  2.83468270e-01  1.69810240e-01  8.35565724e-02]\n",
      " [-7.49122670e-01 -1.00489096e+00  1.23029192e-02  1.79077226e-02]\n",
      " [ 1.04413183e+00  2.28361900e-01 -4.15336085e-01  3.91345020e-02]\n",
      " [-8.74540408e-03 -7.23081905e-01  2.81141431e-01  5.61891788e-03]\n",
      " [-5.07840884e-01 -1.26597119e+00 -2.69817183e-01 -4.55624408e-02]\n",
      " [ 5.11698557e-01 -1.03981235e-01  1.30547750e-01 -5.07192325e-02]\n",
      " [ 2.64976508e-01 -5.50036464e-01 -6.94146830e-01 -5.71855195e-02]\n",
      " [ 9.84934510e-01 -1.24817854e-01 -6.21144083e-02  1.69496255e-01]\n",
      " [-1.73925372e-01 -2.54854209e-01  9.04576907e-02 -1.25217292e-01]\n",
      " [ 9.27860781e-01  4.67179494e-01 -3.14620976e-01 -9.98031365e-02]\n",
      " [ 6.60283762e-01 -3.52969666e-01  3.28027528e-01  1.87878621e-01]\n",
      " [ 2.36104993e-01 -3.33610767e-01 -2.71161837e-01  2.13757370e-01]\n",
      " [ 9.44733728e-01 -5.43145551e-01 -4.99519046e-01 -2.57192177e-01]\n",
      " [ 4.52269763e-02 -5.83834377e-01 -2.35002105e-01  4.15766476e-02]\n",
      " [ 1.11628318e+00 -8.46168522e-02  4.59620991e-01  7.50315529e-02]\n",
      " [ 3.57888418e-01 -6.89250317e-02 -2.29853888e-01 -1.22997604e-01]\n",
      " [ 1.29818388e+00 -3.27787308e-01 -3.47854352e-01 -8.88370584e-04]\n",
      " [ 9.21728922e-01 -1.82737794e-01 -2.31071778e-01  2.88255429e-01]\n",
      " [ 7.14853326e-01  1.49055944e-01 -3.21800937e-01 -4.17197556e-02]\n",
      " [ 9.00174373e-01  3.28504474e-01 -3.16209074e-01 -1.00226728e-01]\n",
      " [ 1.33202444e+00  2.44440876e-01 -5.21702780e-01 -3.53331921e-02]\n",
      " [ 1.55780216e+00  2.67495447e-01 -1.64920984e-01 -6.99692823e-02]\n",
      " [ 8.13290650e-01 -1.63350301e-01  3.54245048e-02  2.97114340e-02]\n",
      " [-3.05583778e-01 -3.68262190e-01 -3.18491581e-01 -7.45696136e-02]\n",
      " [-6.81264921e-02 -7.05172132e-01 -2.44213810e-01 -6.83084222e-03]\n",
      " [-1.89622472e-01 -6.80286764e-01 -3.06420561e-01  2.05510016e-02]\n",
      " [ 1.36428712e-01 -3.14032438e-01 -1.77242766e-01 -3.29419128e-02]\n",
      " [ 1.38002644e+00 -4.20954287e-01  1.61671275e-02  1.78304463e-01]\n",
      " [ 5.88006443e-01 -4.84287420e-01  4.44433499e-01  2.50976060e-01]\n",
      " [ 8.06858313e-01  1.94182315e-01  3.88963063e-01  1.14207243e-01]\n",
      " [ 1.22069088e+00  4.07619594e-01 -2.37167010e-01 -3.12171829e-02]\n",
      " [ 8.15095236e-01 -3.72037060e-01 -6.14720843e-01 -1.54021000e-01]\n",
      " [ 2.45957680e-01 -2.68524397e-01  1.88366812e-01  1.46674512e-01]\n",
      " [ 1.66413217e-01 -6.81926725e-01 -6.00092259e-02 -2.96222195e-02]\n",
      " [ 4.64800288e-01 -6.70711545e-01 -2.43068557e-02  2.69651428e-01]\n",
      " [ 8.90815198e-01 -3.44644444e-02 -9.94693289e-03  1.53484666e-01]\n",
      " [ 2.30548024e-01 -4.04385848e-01 -2.29410241e-01 -1.69303245e-02]\n",
      " [-7.04531759e-01 -1.01224823e+00 -1.05691149e-01 -4.56133071e-02]\n",
      " [ 3.56981495e-01 -5.04910093e-01  1.66171702e-02  9.87414793e-02]\n",
      " [ 3.31934480e-01 -2.12654684e-01  8.32042909e-02  2.38475434e-01]\n",
      " [ 3.76215651e-01 -2.93218929e-01  7.79963511e-02  1.31137381e-01]\n",
      " [ 6.42576008e-01  1.77381901e-02 -2.05394967e-01  2.13776830e-02]\n",
      " [-9.06469865e-01 -7.56093367e-01 -1.25996476e-02 -2.32534844e-01]\n",
      " [ 2.99000842e-01 -3.48897806e-01  1.05816605e-02  5.11811717e-02]\n",
      " [ 2.53119273e+00 -9.84910950e-03  7.60165427e-01  2.90555728e-02]\n",
      " [ 1.41523588e+00 -5.74916348e-01  2.96322527e-01  1.53046739e-02]\n",
      " [ 2.61667602e+00  3.43903151e-01 -1.10787883e-01 -6.57720412e-02]\n",
      " [ 1.97153105e+00 -1.79727904e-01  1.08424662e-01  2.36790934e-01]\n",
      " [ 2.35000592e+00 -4.02609471e-02  2.85389563e-01  1.70633278e-04]\n",
      " [ 3.39703874e+00  5.50836673e-01 -3.48437556e-01  1.12371653e-01]\n",
      " [ 5.21232244e-01 -1.19275873e+00  5.45659296e-01  9.81266196e-02]\n",
      " [ 2.93258707e+00  3.55500003e-01 -4.20239936e-01  2.57191032e-01]\n",
      " [ 2.32122882e+00 -2.43831502e-01 -3.48304395e-01  7.86746130e-02]\n",
      " [ 2.91675097e+00  7.82791949e-01  4.23335418e-01 -1.10982071e-01]\n",
      " [ 1.66177415e+00  2.42228408e-01  2.42440190e-01 -1.21040552e-01]\n",
      " [ 1.80340195e+00 -2.15637617e-01 -3.76481682e-02 -7.80198444e-02]\n",
      " [ 2.16559180e+00  2.16275585e-01  3.33266418e-02 -1.63061478e-01]\n",
      " [ 1.34616358e+00 -7.76818347e-01  2.81902882e-01 -1.40440869e-01]\n",
      " [ 1.58592822e+00 -5.39640714e-01  6.29029326e-01 -3.29551728e-01]\n",
      " [ 1.90445637e+00  1.19250692e-01  4.79639820e-01 -2.19621263e-01]\n",
      " [ 1.94968906e+00  4.19432597e-02  4.41861676e-02  1.57681907e-01]\n",
      " [ 3.48705536e+00  1.17573933e+00  1.33894874e-01  3.09219573e-01]\n",
      " [ 3.79564542e+00  2.57322973e-01 -5.13767764e-01 -5.38460965e-02]\n",
      " [ 1.30079171e+00 -7.61149636e-01 -3.44995038e-01  4.58247549e-02]\n",
      " [ 2.42781791e+00  3.78196013e-01  2.19119324e-01 -1.85429264e-01]\n",
      " [ 1.19900111e+00 -6.06091528e-01  5.11855509e-01 -6.09591171e-02]\n",
      " [ 3.49992004e+00  4.60674099e-01 -5.73182243e-01  1.40227954e-01]\n",
      " [ 1.38876613e+00 -2.04399327e-01 -6.45227566e-02 -1.63040977e-01]\n",
      " [ 2.27543050e+00  3.34990606e-01  2.86150091e-01  6.03719696e-02]\n",
      " [ 2.61409047e+00  5.60901355e-01 -2.05534524e-01  2.40704986e-01]\n",
      " [ 1.25850816e+00 -1.79704795e-01  4.58477039e-02 -1.47503846e-01]\n",
      " [ 1.29113206e+00 -1.16668651e-01  2.31256463e-01 -4.02660775e-03]\n",
      " [ 2.12360872e+00 -2.09729477e-01  1.54180024e-01 -5.28273230e-02]\n",
      " [ 2.38800302e+00  4.64639805e-01 -4.49530192e-01  2.31524053e-01]\n",
      " [ 2.84167278e+00  3.75269167e-01 -4.98898076e-01  2.23364626e-02]\n",
      " [ 3.23067366e+00  1.37416509e+00 -1.14548205e-01  2.52901923e-01]\n",
      " [ 2.15943764e+00 -2.17277579e-01  2.08763167e-01 -1.28193066e-01]\n",
      " [ 1.44416124e+00 -1.43413410e-01 -1.53233888e-01  1.90996358e-01]\n",
      " [ 1.78129481e+00 -4.99901681e-01 -1.72875189e-01  5.05434412e-01]\n",
      " [ 3.07649993e+00  6.88085678e-01 -3.35592292e-01 -3.09828045e-01]\n",
      " [ 2.14424331e+00  1.40064201e-01  7.34878937e-01 -5.55419691e-02]\n",
      " [ 1.90509815e+00  4.93005260e-02  1.62180236e-01  2.21202937e-01]\n",
      " [ 1.16932634e+00 -1.64990262e-01  2.81835840e-01 -2.04617872e-02]\n",
      " [ 2.10761114e+00  3.72287872e-01  2.72911321e-02 -2.10621786e-01]\n",
      " [ 2.31415471e+00  1.83651279e-01  3.22693747e-01 -2.77653777e-01]\n",
      " [ 1.92226780e+00  4.09203467e-01  1.13586596e-01 -5.05304967e-01]\n",
      " [ 1.41523588e+00 -5.74916348e-01  2.96322527e-01  1.53046739e-02]\n",
      " [ 2.56301338e+00  2.77862603e-01  2.92569525e-01 -5.79127477e-02]\n",
      " [ 2.41874618e+00  3.04798198e-01  5.04482664e-01 -2.41091000e-01]\n",
      " [ 1.94410979e+00  1.87532303e-01  1.77825091e-01 -4.26195940e-01]\n",
      " [ 1.52716661e+00 -3.75316983e-01 -1.21898172e-01 -2.54367442e-01]\n",
      " [ 1.76434572e+00  7.88588545e-02  1.30481631e-01 -1.37001274e-01]\n",
      " [ 1.90094161e+00  1.16627959e-01  7.23251563e-01 -4.45953047e-02]\n",
      " [ 1.39018886e+00 -2.82660938e-01  3.62909648e-01  1.55038628e-01]]\n",
      "r\n",
      "0\n",
      "setosa\n",
      "[-2.68412563 -2.71414169 -2.88899057 -2.74534286 -2.72871654 -2.28085963\n",
      " -2.82053775 -2.62614497 -2.88638273 -2.6727558  -2.50694709 -2.61275523\n",
      " -2.78610927 -3.22380374 -2.64475039 -2.38603903 -2.62352788 -2.64829671\n",
      " -2.19982032 -2.5879864  -2.31025622 -2.54370523 -3.21593942 -2.30273318\n",
      " -2.35575405 -2.50666891 -2.46882007 -2.56231991 -2.63953472 -2.63198939\n",
      " -2.58739848 -2.4099325  -2.64886233 -2.59873675 -2.63692688 -2.86624165\n",
      " -2.62523805 -2.80068412 -2.98050204 -2.59000631 -2.77010243 -2.84936871\n",
      " -2.99740655 -2.40561449 -2.20948924 -2.71445143 -2.53814826 -2.83946217\n",
      " -2.54308575 -2.70335978]\n",
      "[ 0.31939725 -0.17700123 -0.14494943 -0.31829898  0.32675451  0.74133045\n",
      " -0.08946138  0.16338496 -0.57831175 -0.11377425  0.6450689   0.01472994\n",
      " -0.235112   -0.51139459  1.17876464  1.33806233  0.81067951  0.31184914\n",
      "  0.87283904  0.51356031  0.39134594  0.43299606  0.13346807  0.09870885\n",
      " -0.03728186 -0.14601688  0.13095149  0.36771886  0.31203998 -0.19696122\n",
      " -0.20431849  0.41092426  0.81336382  1.09314576 -0.12132235  0.06936447\n",
      "  0.59937002  0.26864374 -0.48795834  0.22904384  0.26352753 -0.94096057\n",
      " -0.34192606  0.18887143  0.43666314 -0.2502082   0.50377114 -0.22794557\n",
      "  0.57941002  0.10770608]\n",
      "g\n",
      "1\n",
      "versicolor\n",
      "[ 1.28482569  0.93248853  1.46430232  0.18331772  1.08810326  0.64166908\n",
      "  1.09506066 -0.74912267  1.04413183 -0.0087454  -0.50784088  0.51169856\n",
      "  0.26497651  0.98493451 -0.17392537  0.92786078  0.66028376  0.23610499\n",
      "  0.94473373  0.04522698  1.11628318  0.35788842  1.29818388  0.92172892\n",
      "  0.71485333  0.90017437  1.33202444  1.55780216  0.81329065 -0.30558378\n",
      " -0.06812649 -0.18962247  0.13642871  1.38002644  0.58800644  0.80685831\n",
      "  1.22069088  0.81509524  0.24595768  0.16641322  0.46480029  0.8908152\n",
      "  0.23054802 -0.70453176  0.35698149  0.33193448  0.37621565  0.64257601\n",
      " -0.90646986  0.29900084]\n",
      "[ 0.68516047  0.31833364  0.50426282 -0.82795901  0.07459068 -0.41824687\n",
      "  0.28346827 -1.00489096  0.2283619  -0.72308191 -1.26597119 -0.10398124\n",
      " -0.55003646 -0.12481785 -0.25485421  0.46717949 -0.35296967 -0.33361077\n",
      " -0.54314555 -0.58383438 -0.08461685 -0.06892503 -0.32778731 -0.18273779\n",
      "  0.14905594  0.32850447  0.24444088  0.26749545 -0.1633503  -0.36826219\n",
      " -0.70517213 -0.68028676 -0.31403244 -0.42095429 -0.48428742  0.19418231\n",
      "  0.40761959 -0.37203706 -0.2685244  -0.68192672 -0.67071154 -0.03446444\n",
      " -0.40438585 -1.01224823 -0.50491009 -0.21265468 -0.29321893  0.01773819\n",
      " -0.75609337 -0.34889781]\n",
      "b\n",
      "2\n",
      "virginica\n",
      "[2.53119273 1.41523588 2.61667602 1.97153105 2.35000592 3.39703874\n",
      " 0.52123224 2.93258707 2.32122882 2.91675097 1.66177415 1.80340195\n",
      " 2.1655918  1.34616358 1.58592822 1.90445637 1.94968906 3.48705536\n",
      " 3.79564542 1.30079171 2.42781791 1.19900111 3.49992004 1.38876613\n",
      " 2.2754305  2.61409047 1.25850816 1.29113206 2.12360872 2.38800302\n",
      " 2.84167278 3.23067366 2.15943764 1.44416124 1.78129481 3.07649993\n",
      " 2.14424331 1.90509815 1.16932634 2.10761114 2.31415471 1.9222678\n",
      " 1.41523588 2.56301338 2.41874618 1.94410979 1.52716661 1.76434572\n",
      " 1.90094161 1.39018886]\n",
      "[-0.00984911 -0.57491635  0.34390315 -0.1797279  -0.04026095  0.55083667\n",
      " -1.19275873  0.3555     -0.2438315   0.78279195  0.24222841 -0.21563762\n",
      "  0.21627559 -0.77681835 -0.53964071  0.11925069  0.04194326  1.17573933\n",
      "  0.25732297 -0.76114964  0.37819601 -0.60609153  0.4606741  -0.20439933\n",
      "  0.33499061  0.56090136 -0.17970479 -0.11666865 -0.20972948  0.4646398\n",
      "  0.37526917  1.37416509 -0.21727758 -0.14341341 -0.49990168  0.68808568\n",
      "  0.1400642   0.04930053 -0.16499026  0.37228787  0.18365128  0.40920347\n",
      " -0.57491635  0.2778626   0.3047982   0.1875323  -0.37531698  0.07885885\n",
      "  0.11662796 -0.28266094]\n"
     ]
    },
    {
     "data": {
      "image/png": "[encoded data removed]",
      "text/plain": [
       "<Figure size 432x288 with 1 Axes>"
      ]
     },
     "metadata": {
      "needs_background": "light"
     },
     "output_type": "display_data"
    }
   ],
   "source": [
    "def calc_corr():\n",
    "    for i in range(2):\n",
    "        for j in range(4):\n",
    "            corr_pearson = pearsonr(data[j], data_pca[i])\n",
    "            print(corr_pearson[1])\n",
    "\n",
    "\n",
    "model = PCA(n_components=4)\n",
    "model.fit(data)\n",
    "data_pca = model.transform(data)\n",
    "plot_iris(data_pca, target, target_names)"
   ]
  },
  {
   "cell_type": "markdown",
   "metadata": {},
   "source": [
    "## Интерпретация главных компонент с использованием данных\n",
    "\n",
    "Рассмотрим теперь величину, которую можно проинтерпретировать, как квадрат косинуса угла между объектом выборки и главной компонентой:\n",
    "\n",
    "$$ cos^2_{ik} = \\frac{f_{ik}^2}{\\sum_{\\ell=1}^d f_{i\\ell}^2} $$\n",
    "\n",
    "где\n",
    "- i -- номер объекта\n",
    "- k -- номер главной компоненты\n",
    "- $f_{ik}$ -- модуль центрированной проекции объекта на компоненту\n",
    "\n",
    "Очевидно, что\n",
    "\n",
    "$$ \\sum_{k=1}^d cos^2_{ik} = 1 $$\n",
    "\n",
    "Это значит, что для каждого объекта мы в виде данной величины получили веса, пропорциональные вкладу, которую вносит данный объект в дисперсию каждой компоненты. Чем больше вклад, тем более значим объект для описания конкретной главной компоненты."
   ]
  },
  {
   "cell_type": "markdown",
   "metadata": {},
   "source": [
    "## Задание 4. Анализ главных компонент при помощи вкладов в их дисперсию отдельных объектов\n",
    "\n",
    "1. Загрузите датасет лиц Olivetti Faces и обучите на нём модель RandomizedPCA (используется при большом количестве признаков и работает быстрее, чем обычный PCA). Получите проекции признаков на 10 первых главных компонент.\n",
    "2. Посчитайте для каждого объекта его относительный вклад в дисперсию каждой из 10 компонент, используя формулу из предыдущего раздела (d = 10).\n",
    "3. Для каждой компоненты найдите и визуализируйте лицо, которое вносит наибольший относительный вклад в неё. Для визуализации используйте функцию\n",
    "\n",
    "        plt.imshow(image.reshape(image_shape))\n",
    "        \n",
    "4. Передайте в форму список номеров лиц с наибольшим относительным вкладом в дисперсию каждой из компонент, список начинается с 0."
   ]
  },
  {
   "cell_type": "code",
   "execution_count": 167,
   "metadata": {
    "scrolled": true
   },
   "outputs": [
    {
     "name": "stdout",
     "output_type": "stream",
     "text": [
      "399.99999935409664\n",
      "[197  18  66 319 363 131 142 382 353 140]\n",
      "197 18 66 319 363 131 142 382 353 140\n"
     ]
    }
   ],
   "source": [
    "from sklearn.datasets import fetch_olivetti_faces\n",
    "from sklearn.decomposition import PCA\n",
    "\n",
    "\n",
    "data = fetch_olivetti_faces(shuffle=True, random_state=0).data\n",
    "image_shape = (64, 64)\n",
    "# plt.imshow(data[1].reshape(image_shape))\n",
    "model = PCA(n_components=10, svd_solver='randomized')\n",
    "model.fit(data)\n",
    "data_pca = model.transform(data)\n",
    "matrix = np.zeros(data_pca.shape)\n",
    "for i in range(400):\n",
    "    k = np.sum(data_pca[i, :]**2)\n",
    "    for j in range(10):\n",
    "        matrix[i, j] = (data_pca[i, j] ** 2) / k\n",
    "print(np.sum(matrix))\n",
    "ans = matrix.argmax(axis=0)\n",
    "print(ans)\n",
    "def gen_ans(a):\n",
    "    ans = ''\n",
    "    for elem in a:\n",
    "        ans += str(elem) + ' '\n",
    "    return ans[:-1]\n",
    "\n",
    "print(gen_ans(ans))"
   ]
  },
  {
   "cell_type": "markdown",
   "metadata": {},
   "source": [
    "## Анализ основных недостатков метода главных компонент\n",
    "\n",
    "Рассмотренные выше задачи являются, безусловно, модельными, потому что данные для них были сгенерированы в соответствии с предположениями метода главных компонент. На практике эти предположения, естественно, выполняются далеко не всегда. Рассмотрим типичные ошибки PCA, которые следует иметь в виду перед тем, как его применять."
   ]
  },
  {
   "cell_type": "markdown",
   "metadata": {},
   "source": [
    "### Направления с максимальной дисперсией в данных неортогональны\n",
    "\n",
    "Рассмотрим случай выборки, которая сгенерирована из двух вытянутых нормальных распределений:"
   ]
  },
  {
   "cell_type": "code",
   "execution_count": 103,
   "metadata": {},
   "outputs": [
    {
     "name": "stderr",
     "output_type": "stream",
     "text": [
      "<ipython-input-103-14e8e9ec00d6>:7: RuntimeWarning: covariance is not positive-semidefinite.\n",
      "  np.random.multivariate_normal(mu, C2, size=50)])\n"
     ]
    },
    {
     "data": {
      "image/png": "[encoded data removed]",
      "text/plain": [
       "<Figure size 432x288 with 1 Axes>"
      ]
     },
     "metadata": {
      "needs_background": "light"
     },
     "output_type": "display_data"
    }
   ],
   "source": [
    "C1 = np.array([[10,0],[0,0.5]])\n",
    "phi = np.pi/3\n",
    "C2 = np.dot(C1, np.array([[np.cos(phi), np.sin(phi)],\n",
    "                          [-np.sin(phi),np.cos(phi)]]))\n",
    "\n",
    "data = np.vstack([np.random.multivariate_normal(mu, C1, size=50),\n",
    "                  np.random.multivariate_normal(mu, C2, size=50)])\n",
    "plt.scatter(data[:,0], data[:,1])\n",
    "# построим истинные интересующие нас компоненты\n",
    "plt.plot(data[:,0], np.zeros(data[:,0].size), color=\"g\")\n",
    "plt.plot(data[:,0], 3**0.5*data[:,0], color=\"g\")\n",
    "# обучим модель pca и построим главные компоненты\n",
    "model = PCA(n_components=2)\n",
    "model.fit(data)\n",
    "plot_principal_components(data, model, scatter=False, legend=False)\n",
    "c_patch = mpatches.Patch(color='c', label='Principal components')\n",
    "plt.legend(handles=[g_patch, c_patch])\n",
    "plt.draw()"
   ]
  },
  {
   "cell_type": "markdown",
   "metadata": {},
   "source": [
    "В чём проблема, почему pca здесь работает плохо? Ответ прост: интересующие нас компоненты в данных коррелированны между собой (или неортогональны, в зависимости от того, какой терминологией пользоваться). Для поиска подобных преобразований требуются более сложные методы, которые уже выходят за рамки метода главных компонент.\n",
    "\n",
    "Для интересующихся: то, что можно применить непосредственно к выходу метода главных компонент, для получения подобных неортогональных преобразований, называется методами ротации. Почитать о них можно в связи с другим методом уменьшения размерности, который называется Factor Analysis (FA), но ничего не мешает их применять и к главным компонентам."
   ]
  },
  {
   "cell_type": "markdown",
   "metadata": {},
   "source": [
    "### Интересное направление в данных не совпадает с направлением максимальной дисперсии\n",
    "\n",
    "Рассмотрим пример, когда дисперсии не отражают интересующих нас направлений в данных:"
   ]
  },
  {
   "cell_type": "code",
   "execution_count": 104,
   "metadata": {},
   "outputs": [
    {
     "data": {
      "image/png": "[encoded data removed]",
      "text/plain": [
       "<Figure size 432x288 with 1 Axes>"
      ]
     },
     "metadata": {
      "needs_background": "light"
     },
     "output_type": "display_data"
    }
   ],
   "source": [
    "C = np.array([[0.5,0],[0,10]])\n",
    "mu1 = np.array([-2,0])\n",
    "mu2 = np.array([2,0])\n",
    "\n",
    "data = np.vstack([np.random.multivariate_normal(mu1, C, size=50),\n",
    "                  np.random.multivariate_normal(mu2, C, size=50)])\n",
    "plt.scatter(data[:,0], data[:,1])\n",
    "# обучим модель pca и построим главные компоненты\n",
    "model = PCA(n_components=2)\n",
    "model.fit(data)\n",
    "plot_principal_components(data, model)\n",
    "plt.draw()"
   ]
  },
  {
   "cell_type": "markdown",
   "metadata": {},
   "source": [
    "Очевидно, что в данном случае метод главных компонент будет считать вертикальную компоненту более значимой для описания набора данных, чем горизонтальную. \n",
    "\n",
    "Но, например, в случае, когда данные из левого и правого кластера относятся к разным классам, для их линейной разделимости вертикальная компонента является шумовой. Несмотря на это, её метод главных компонент никогда шумовой не признает, и есть вероятность, что отбор признаков с его помощью выкинет из ваших данных значимые для решаемой вами задачи компоненты просто потому, что вдоль них значения имеют низкую дисперсию.\n",
    "\n",
    "Справляться с такими ситуациями могут некоторые другие методы уменьшения размерности данных, например, метод независимых компонент (Independent Component Analysis, ICA)."
   ]
  }
 ],
 "metadata": {
  "kernelspec": {
   "display_name": "Python 3",
   "language": "python",
   "name": "python3"
  },
  "language_info": {
   "codemirror_mode": {
    "name": "ipython",
    "version": 3
   },
   "file_extension": ".py",
   "mimetype": "text/x-python",
   "name": "python",
   "nbconvert_exporter": "python",
   "pygments_lexer": "ipython3",
   "version": "3.8.3"
  }
 },
 "nbformat": 4,
 "nbformat_minor": 1
}
